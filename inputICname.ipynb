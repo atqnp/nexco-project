{
 "cells": [
  {
   "cell_type": "code",
   "execution_count": 11,
   "metadata": {},
   "outputs": [
    {
     "data": {
      "text/plain": [
       "['4,860円', '4,180円', '4,180円']"
      ]
     },
     "execution_count": 11,
     "metadata": {},
     "output_type": "execute_result"
    }
   ],
   "source": [
    "import time\n",
    "from selenium import webdriver\n",
    "import pandas as pd\n",
    "from bs4 import BeautifulSoup as soup\n",
    "from selenium.webdriver.support.ui import Select\n",
    "from selenium.webdriver.common.by import By\n",
    "from selenium.webdriver.support.ui import WebDriverWait as wait\n",
    "from selenium.webdriver.support import expected_conditions as EC\n",
    "from selenium.webdriver.common.keys import Keys\n",
    "\n",
    "url = \"http://search.w-nexco.co.jp/\"\n",
    "\n",
    "#new session\n",
    "\n",
    "driver = webdriver.Chrome()\n",
    "\n",
    "#navigate to the page\n",
    "driver.get(url)\n",
    "\n",
    "#get the fill in form\n",
    "out_field = driver.find_element_by_name(\"fnm\")\n",
    "out_field.send_keys(\"高井戸（首都高速）\")\n",
    "in_field = driver.find_element_by_name(\"tnm\")\n",
    "in_field.send_keys(\"碓氷軽井沢\")\n",
    "select_car_type = Select(driver.find_element_by_name(\"cartyp\")).select_by_value(\"1\")\n",
    "select_hour = Select(driver.find_element_by_id(\"sl_hour_id\")).select_by_value(\"10\")\n",
    "select_min = Select(driver.find_element_by_id(\"sl_min_id\")).select_by_value(\"0\")\n",
    "\n",
    "driver.find_element_by_css_selector(\".submit-btn\").send_keys(\"\\n\")\n",
    "#wait for page to load\n",
    "time.sleep(10)\n",
    "#get the toll fee\n",
    "normal_toll = driver.find_element_by_css_selector(\"span.toll-normal\").get_attribute(\"innerText\")\n",
    "etc_toll = driver.find_element_by_css_selector(\"span.toll-etc\").get_attribute(\"innerText\")\n",
    "etc2_toll = driver.find_element_by_css_selector(\"span.toll-etc2\").get_attribute(\"innerText\")\n",
    "\n",
    "#driver.find_element_by_css_selector(\".etclist\").click()\n",
    "\n",
    "time.sleep(5)\n",
    "\n",
    "#if car type 1 and 2\n",
    "#kyujitsu_toll = driver.find_element_by_xpath('//*[@id=\"etc_box1_5\"]/div[2]/div/div/dl[1]/dd/span').get_attribute(\"innerText\")\n",
    "#shinya_toll = driver.find_element_by_xpath('//*[@id=\"etc_box1_5\"]/div[2]/div/div/dl[2]/dd/span').get_attribute(\"innerText\")\n",
    "#per30_toll = driver.find_element_by_xpath('//*[@id=\"etc_box1_5\"]/div[2]/div/div/dl[3]/dd[2]/dl[1]/dd/span').get_attribute(\"innerText\")\n",
    "#per50_toll = driver.find_element_by_xpath('//*[@id=\"etc_box1_5\"]/div[2]/div/div/dl[3]/dd[2]/dl[2]/dd/span').get_attribute(\"innerText\")\n",
    "\n",
    "\n",
    "#kyujitsu_toll = 0\n",
    "#shinya_toll = driver.find_element_by_xpath('//*[@id=\"etc_box1_5\"]/div[2]/div/div/dl[1]/dd/span').get_attribute(\"innerText\")\n",
    "#per30_toll = driver.find_element_by_xpath('//*[@id=\"etc_box1_5\"]/div[2]/div/div/dl[2]/dd[2]/dl[1]/dd/span').get_attribute(\"innerText\")\n",
    "#per50_toll = driver.find_element_by_xpath('//*[@id=\"etc_box1_5\"]/div[2]/div/div/dl[2]/dd[2]/dl[2]/dd/span').get_attribute(\"innerText\")\n",
    "\n",
    "\n",
    "#close session\n",
    "driver.quit()\n",
    "\n",
    "#toll = [normal_toll, etc_toll, etc2_toll, kyujitsu_toll, shinya_toll, per30_toll, per50_toll]\n",
    "toll = [normal_toll, etc_toll, etc2_toll]\n",
    "toll"
   ]
  },
  {
   "cell_type": "code",
   "execution_count": null,
   "metadata": {},
   "outputs": [],
   "source": []
  }
 ],
 "metadata": {
  "kernelspec": {
   "display_name": "Python 3",
   "language": "python",
   "name": "python3"
  },
  "language_info": {
   "codemirror_mode": {
    "name": "ipython",
    "version": 3
   },
   "file_extension": ".py",
   "mimetype": "text/x-python",
   "name": "python",
   "nbconvert_exporter": "python",
   "pygments_lexer": "ipython3",
   "version": "3.6.5"
  }
 },
 "nbformat": 4,
 "nbformat_minor": 2
}
