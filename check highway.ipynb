{
 "cells": [
  {
   "cell_type": "code",
   "execution_count": 14,
   "metadata": {},
   "outputs": [
    {
     "data": {
      "text/plain": [
       "[]"
      ]
     },
     "execution_count": 14,
     "metadata": {},
     "output_type": "execute_result"
    }
   ],
   "source": [
    "import pandas as pd\n",
    "import time\n",
    "from selenium import webdriver\n",
    "from bs4 import BeautifulSoup as soup\n",
    "from selenium.webdriver.support.ui import Select\n",
    "from selenium.webdriver.common.by import By\n",
    "from selenium.webdriver.support.ui import WebDriverWait as wait\n",
    "from selenium.webdriver.support import expected_conditions as EC\n",
    "from selenium.webdriver.common.keys import Keys\n",
    "\n",
    "url = \"http://search.w-nexco.co.jp/route.php\"\n",
    "\n",
    "#new session\n",
    "df = pd.read_csv('201807_料金検索確認 - Sheet1.csv')\n",
    "df_edit = df.dropna(subset=['入口','出口'])\n",
    "full2 = []\n",
    "for index, row in df_edit.iterrows():\n",
    "    #navigate to the page\n",
    "    driver = webdriver.Chrome()\n",
    "    driver.get(url)\n",
    "\n",
    "    #get the fill in form\n",
    "    in_field = driver.find_element_by_name(\"fnm\")\n",
    "    in_field.send_keys(row['入口'])\n",
    "    out_field = driver.find_element_by_name(\"tnm\")\n",
    "    out_field.send_keys(row['出口'])\n",
    "    \n",
    "    select_car_type = Select(driver.find_element_by_name(\"cartyp\")).select_by_value(\"1\")\n",
    "    select_hour = Select(driver.find_element_by_id(\"sl_hour_id\")).select_by_value(\"10\")\n",
    "    select_min = Select(driver.find_element_by_id(\"sl_min_id\")).select_by_value(\"0\")\n",
    "    select_detour1 = Select(driver.find_element_by_id(\"detour1_id\")).select_by_value(\"G1110\")\n",
    "    select_detour2 = Select(driver.find_element_by_id(\"detour2_id\")).select_by_value(\"G7000\")\n",
    "\n",
    "    driver.find_element_by_css_selector(\".submit-btn\").send_keys(\"\\n\")\n",
    "    driver.find_element_by_css_selector(\".submit-btn\").send_keys(\"\\n\")\n",
    "    #wait for page to load\n",
    "    time.sleep(10)\n",
    "    #get the toll fee\n",
    "    normal_toll = driver.find_element_by_css_selector(\"span.toll-normal\").get_attribute(\"innerText\")\n",
    "    etc_toll = driver.find_element_by_css_selector(\"span.toll-etc\").get_attribute(\"innerText\")\n",
    "    etc2_toll = driver.find_element_by_css_selector(\"span.toll-etc2\").get_attribute(\"innerText\")\n",
    "\n",
    "    #driver.find_element_by_css_selector(\".etclist\").click()\n",
    "\n",
    "    time.sleep(5)\n",
    "\n",
    "#if car type 1 and 2\n",
    "#kyujitsu_toll = driver.find_element_by_xpath('//*[@id=\"etc_box1_5\"]/div[2]/div/div/dl[1]/dd/span').get_attribute(\"innerText\")\n",
    "#shinya_toll = driver.find_element_by_xpath('//*[@id=\"etc_box1_5\"]/div[2]/div/div/dl[2]/dd/span').get_attribute(\"innerText\")\n",
    "#per30_toll = driver.find_element_by_xpath('//*[@id=\"etc_box1_5\"]/div[2]/div/div/dl[3]/dd[2]/dl[1]/dd/span').get_attribute(\"innerText\")\n",
    "#per50_toll = driver.find_element_by_xpath('//*[@id=\"etc_box1_5\"]/div[2]/div/div/dl[3]/dd[2]/dl[2]/dd/span').get_attribute(\"innerText\")\n",
    "\n",
    "\n",
    "#kyujitsu_toll = 0\n",
    "#shinya_toll = driver.find_element_by_xpath('//*[@id=\"etc_box1_5\"]/div[2]/div/div/dl[1]/dd/span').get_attribute(\"innerText\")\n",
    "#per30_toll = driver.find_element_by_xpath('//*[@id=\"etc_box1_5\"]/div[2]/div/div/dl[2]/dd[2]/dl[1]/dd/span').get_attribute(\"innerText\")\n",
    "#per50_toll = driver.find_element_by_xpath('//*[@id=\"etc_box1_5\"]/div[2]/div/div/dl[2]/dd[2]/dl[2]/dd/span').get_attribute(\"innerText\")\n",
    "\n",
    "\n",
    "#close session\n",
    "    driver.quit()\n",
    "\n",
    "#toll = [normal_toll, etc_toll, etc2_toll, kyujitsu_toll, shinya_toll, per30_toll, per50_toll]\n",
    "    \n",
    "    toll = [normal_toll, etc_toll, etc2_toll]\n",
    "    full1.append(toll)\n",
    "    time.sleep(10)\n",
    "full2"
   ]
  },
  {
   "cell_type": "code",
   "execution_count": 13,
   "metadata": {},
   "outputs": [],
   "source": [
    "#gaien full\n",
    "#gaien shuto full1\n",
    "#gaien hanshin full2"
   ]
  },
  {
   "cell_type": "code",
   "execution_count": 3,
   "metadata": {},
   "outputs": [
    {
     "ename": "NameError",
     "evalue": "name 'full2' is not defined",
     "output_type": "error",
     "traceback": [
      "\u001b[0;31m---------------------------------------------------------------------------\u001b[0m",
      "\u001b[0;31mNameError\u001b[0m                                 Traceback (most recent call last)",
      "\u001b[0;32m<ipython-input-3-4795e0a53abe>\u001b[0m in \u001b[0;36m<module>\u001b[0;34m()\u001b[0m\n\u001b[0;32m----> 1\u001b[0;31m \u001b[0mfull2\u001b[0m\u001b[0;34m\u001b[0m\u001b[0m\n\u001b[0m",
      "\u001b[0;31mNameError\u001b[0m: name 'full2' is not defined"
     ]
    }
   ],
   "source": [
    "full2"
   ]
  },
  {
   "cell_type": "code",
   "execution_count": null,
   "metadata": {},
   "outputs": [],
   "source": []
  }
 ],
 "metadata": {
  "kernelspec": {
   "display_name": "Python 3",
   "language": "python",
   "name": "python3"
  },
  "language_info": {
   "codemirror_mode": {
    "name": "ipython",
    "version": 3
   },
   "file_extension": ".py",
   "mimetype": "text/x-python",
   "name": "python",
   "nbconvert_exporter": "python",
   "pygments_lexer": "ipython3",
   "version": "3.6.4"
  }
 },
 "nbformat": 4,
 "nbformat_minor": 2
}
