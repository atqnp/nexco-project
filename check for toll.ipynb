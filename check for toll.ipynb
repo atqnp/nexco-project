{
 "cells": [
  {
   "cell_type": "markdown",
   "metadata": {},
   "source": [
    "Import library"
   ]
  },
  {
   "cell_type": "markdown",
   "metadata": {},
   "source": [
    "ライブラリーをインポートする"
   ]
  },
  {
   "cell_type": "code",
   "execution_count": null,
   "metadata": {},
   "outputs": [],
   "source": [
    "import pandas as pd\n",
    "import time\n",
    "import csv\n",
    "from selenium import webdriver\n",
    "from bs4 import BeautifulSoup as soup\n",
    "from selenium.webdriver.support.ui import Select\n",
    "from selenium.webdriver.common.by import By\n",
    "from selenium.webdriver.common.keys import Keys\n",
    "from selenium.webdriver.chrome.options import Options"
   ]
  },
  {
   "cell_type": "markdown",
   "metadata": {},
   "source": [
    "This is the URL used to search for the toll fees. "
   ]
  },
  {
   "cell_type": "markdown",
   "metadata": {},
   "source": [
    "このURLで高速料金を探す"
   ]
  },
  {
   "cell_type": "code",
   "execution_count": null,
   "metadata": {},
   "outputs": [],
   "source": [
    "options = Options()\n",
    "options.add_argument('--headless')\n",
    "url = \"http://search.w-nexco.co.jp/route.php\""
   ]
  },
  {
   "cell_type": "markdown",
   "metadata": {},
   "source": [
    "This will read the csv file of the list and delete the empty rows with no IC name available. It will also create a new list to input all the toll fees inside."
   ]
  },
  {
   "cell_type": "markdown",
   "metadata": {},
   "source": [
    "CSVファイルを読み込み、空セルを削除。リストを作る"
   ]
  },
  {
   "cell_type": "code",
   "execution_count": null,
   "metadata": {},
   "outputs": [],
   "source": [
    "#read CSV\n",
    "df = pd.read_csv('201807_ryokin.csv')\n",
    "df_edit = df.dropna(subset=['入口','出口'])\n",
    "full_kei = []"
   ]
  },
  {
   "cell_type": "markdown",
   "metadata": {},
   "source": [
    "Run the whole program and iterate through each row. A time.sleep is put to add time for response. Prevent from being recognized as bot"
   ]
  },
  {
   "cell_type": "markdown",
   "metadata": {},
   "source": [
    "プログラムを動かす。車種区分に車種によって変更してください。"
   ]
  },
  {
   "cell_type": "code",
   "execution_count": null,
   "metadata": {},
   "outputs": [],
   "source": [
    "for index, row in df_edit.iterrows():\n",
    "    \n",
    "    #open the browser and navigate to the page\n",
    "    #ブラウザ開いてURLに接続\n",
    "    driver = webdriver.Chrome(chrome_options=options)\n",
    "    driver.get(url)\n",
    "\n",
    "    #fill in the form\n",
    "    #出発IC\n",
    "    in_field = driver.find_element_by_name(\"fnm\")\n",
    "    in_field.send_keys(row['入口'])\n",
    "    time.sleep(1)\n",
    "    #到着IC\n",
    "    out_field = driver.find_element_by_name(\"tnm\")\n",
    "    out_field.send_keys(row['出口'])\n",
    "    time.sleep(1)\n",
    "    \n",
    "    #車種区分\n",
    "    #Type of car: (\"1\"-軽・自動二輪, \"2\"-普通車, \"3\"-中型車, \"4\"-大型車, \"5\"- 特大車) \n",
    "    select_car_type = Select(driver.find_element_by_name(\"cartyp\")).select_by_value(\"1\")\n",
    "    time.sleep(1)\n",
    "    \n",
    "    #日時\n",
    "    #set date (2018/7/10)\n",
    "    driver.find_element_by_class_name(\"calImgDiv_search\").click()\n",
    "    driver.find_element_by_id(\"day_2018_7_10_2_0\").click\n",
    "    #set time (午前10時)\n",
    "    select_hour = Select(driver.find_element_by_id(\"sl_hour_id\")).select_by_value(\"10\")\n",
    "    time.sleep(1)\n",
    "    select_min = Select(driver.find_element_by_id(\"sl_min_id\")).select_by_value(\"0\")\n",
    "    time.sleep(1)\n",
    "    \n",
    "    #通らない道路　（二つしかセットできない）\n",
    "    #set detour (only 2 can be set)\n",
    "    #\"G1110\"- C3 外環道, \"G6000\"-首都高速\n",
    "    select_detour1 = Select(driver.find_element_by_id(\"detour1_id\")).select_by_value(\"G1110\")\n",
    "    time.sleep(1)\n",
    "    select_detour2 = Select(driver.find_element_by_id(\"detour2_id\")).select_by_value(\"G6000\")\n",
    "    \n",
    "    #検索する\n",
    "    driver.find_element_by_css_selector(\".submit-btn\").send_keys(\"\\n\")\n",
    "    time.sleep(3)\n",
    "    driver.find_element_by_css_selector(\".submit-btn\").send_keys(\"\\n\")\n",
    "    time.sleep(2)\n",
    "        \n",
    "    #wait for page to load and click ETC料金順\n",
    "    time.sleep(3)\n",
    "    driver.find_element_by_id(\"pritab9\").click()\n",
    "    \n",
    "    #wait for page to load and get the toll fee\n",
    "    #ページを待つとデータを取る\n",
    "    time.sleep(3)\n",
    "    \n",
    "    #通常(現金)\n",
    "    normal_toll = driver.find_element_by_css_selector(\"span.toll-normal\").get_attribute(\"innerText\")\n",
    "    #ETC\n",
    "    etc_toll = driver.find_element_by_css_selector(\"span.toll-etc\").get_attribute(\"innerText\")\n",
    "    #ETC2.0\n",
    "    etc2_toll = driver.find_element_by_css_selector(\"span.toll-etc2\").get_attribute(\"innerText\")\n",
    "    #休日\n",
    "    kyujitsu_toll = driver.find_element_by_xpath('//*[@class=\"etc-info pc-stay pos-etc_box\"]/div[2]/div/div/dl[1]/dd/span').get_attribute(\"innerText\")\n",
    "    #深夜\n",
    "    shinya_toll = driver.find_element_by_xpath('//*[@class=\"etc-info pc-stay pos-etc_box\"]/div[2]/div/div/dl[2]/dd/span').get_attribute(\"innerText\")\n",
    "    \n",
    "    time.sleep(5)\n",
    "\n",
    "    #close browser and session\n",
    "    #ブラウザを閉じる\n",
    "    driver.quit()\n",
    "    \n",
    "    #collected toll fess is put inside the list and made into list of list\n",
    "    toll = [row['入口'],row['出口'],normal_toll, etc_toll, etc2_toll, shinya_toll, kyujitsu_toll]\n",
    "    full_kei.append(toll)\n",
    "    \n",
    "    #wait time before next session\n",
    "    time.sleep(10)"
   ]
  },
  {
   "cell_type": "markdown",
   "metadata": {},
   "source": [
    "Change list into Pandas DataFrame.\n",
    "Make another dataframe to exclude all unrelated symbols (円,分, etc.)"
   ]
  },
  {
   "cell_type": "markdown",
   "metadata": {},
   "source": [
    "リストをPandasデータフレームに変更。もう一つのデータフレームを作り要らない記号を削除。"
   ]
  },
  {
   "cell_type": "code",
   "execution_count": null,
   "metadata": {},
   "outputs": [],
   "source": [
    "pd_toll_kei = pd.DataFrame(full_kei)\n",
    "all_kei = pd_toll_kei[pd_toll_kei.columns[2:]].replace('[\\$,円,分]', '', regex=True).astype(int)"
   ]
  },
  {
   "cell_type": "markdown",
   "metadata": {},
   "source": [
    "Export into Microsoft Excel file"
   ]
  },
  {
   "cell_type": "markdown",
   "metadata": {},
   "source": [
    "エクセルにエクスポートする"
   ]
  },
  {
   "cell_type": "code",
   "execution_count": null,
   "metadata": {},
   "outputs": [],
   "source": [
    "with pd.ExcelWriter('toll keisha.xlsx') as writer:\n",
    "    pd_toll_kei.to_excel(writer, sheet_name='pd toll')\n",
    "    all_kei.to_excel(writer, sheet_name='all kei')"
   ]
  }
 ],
 "metadata": {
  "celltoolbar": "Raw Cell Format",
  "kernelspec": {
   "display_name": "Python 3",
   "language": "python",
   "name": "python3"
  },
  "language_info": {
   "codemirror_mode": {
    "name": "ipython",
    "version": 3
   },
   "file_extension": ".py",
   "mimetype": "text/x-python",
   "name": "python",
   "nbconvert_exporter": "python",
   "pygments_lexer": "ipython3",
   "version": "3.6.5"
  }
 },
 "nbformat": 4,
 "nbformat_minor": 2
}
